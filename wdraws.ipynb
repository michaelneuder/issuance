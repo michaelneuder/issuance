{
 "cells": [
  {
   "cell_type": "code",
   "execution_count": 3,
   "metadata": {},
   "outputs": [],
   "source": [
    "delta, T = 3, 2"
   ]
  },
  {
   "cell_type": "code",
   "execution_count": 12,
   "metadata": {},
   "outputs": [],
   "source": [
    "# Assume sorted\n",
    "withdrawals = [1,4,5,6,8,9,10,13]"
   ]
  },
  {
   "cell_type": "code",
   "execution_count": 16,
   "metadata": {},
   "outputs": [
    {
     "name": "stdout",
     "output_type": "stream",
     "text": [
      "0\n"
     ]
    },
    {
     "data": {
      "text/plain": [
       "1"
      ]
     },
     "execution_count": 16,
     "metadata": {},
     "output_type": "execute_result"
    }
   ],
   "source": [
    "wIndex, currentTime = 0, 0\n",
    "currentPeriodWithdrawals = []\n",
    "while wIndex < len(withdrawals):\n",
    "    # Only continue if the current withdrawal request is beyond the current time.\n",
    "    withdrawal = withdrawals[wIndex]\n",
    "    if withdrawal > currentTime:\n",
    "        currentTime += 1\n",
    "        \n",
    "    # Remove any withdrawals that are now outside of the window (prob could do with list comprehension)\n",
    "    for i in range(len(currentPeriodWithdrawals)):\n",
    "        if currentTime - currentPeriodWithdrawals[i] > T:\n",
    "            continue\n",
    "        else:\n",
    "            currentPeriodWithdrawals = currentPeriodWithdrawals[i:]\n",
    "            break\n",
    "    \n",
    "    # See if there is room to add the current withdrawal\n",
    "    currentPeriodBalance = len(currentPeriodWithdrawals)\n",
    "    if currentPeriodBalance < delta:\n",
    "        currentPeriodWithdrawals.append(withdrawal)\n",
    "        wIndex += 1\n",
    "\n",
    "    # Increment time.\n",
    "    currentTime += 1\n",
    "    \n",
    "currentTime"
   ]
  },
  {
   "cell_type": "code",
   "execution_count": 30,
   "metadata": {},
   "outputs": [],
   "source": [
    "delta, T = 2, 3\n",
    "withdrawals = [1,4,5,6,7,7,7,8,9,10,11,11,11,13]"
   ]
  },
  {
   "cell_type": "code",
   "execution_count": 32,
   "metadata": {},
   "outputs": [
    {
     "name": "stdout",
     "output_type": "stream",
     "text": [
      "1 [] [1, 4, 5, 6, 7, 7, 7, 8, 9, 10, 11, 11, 11, 13] []\n",
      "2 [] [4, 5, 6, 7, 7, 7, 8, 9, 10, 11, 11, 11, 13] [1]\n",
      "3 [] [4, 5, 6, 7, 7, 7, 8, 9, 10, 11, 11, 11, 13] [1]\n",
      "4 [] [4, 5, 6, 7, 7, 7, 8, 9, 10, 11, 11, 11, 13] [1]\n",
      "5 [] [5, 6, 7, 7, 7, 8, 9, 10, 11, 11, 11, 13] [4]\n",
      "6 [5] [6, 7, 7, 7, 8, 9, 10, 11, 11, 11, 13] [4]\n",
      "7 [5, 6] [7, 7, 7, 8, 9, 10, 11, 11, 11, 13] [4]\n",
      "8 [7, 7, 7] [8, 9, 10, 11, 11, 11, 13] [5, 6]\n",
      "9 [7, 7, 7, 8] [9, 10, 11, 11, 11, 13] [6]\n",
      "10 [7, 8, 9] [10, 11, 11, 11, 13] [7, 7]\n",
      "11 [9, 10] [11, 11, 11, 13] [7, 8]\n",
      "12 [11, 11, 11] [13] [9, 10]\n",
      "13 [11, 11, 11] [13] [10]\n",
      "14 [11, 13] [] [11, 11]\n",
      "15 [] [] [11, 13]\n"
     ]
    }
   ],
   "source": [
    "currentTime = 0\n",
    "ineligibleWds = withdrawals\n",
    "eligibleWds, pastWds = [], []\n",
    "\n",
    "while len(ineligibleWds) != 0 or len(eligibleWds) != 0:\n",
    "    currentTime += 1\n",
    "    \n",
    "    # add to queue of eligible\n",
    "    eligibleWds.extend([i for i in ineligibleWds if i < currentTime])\n",
    "    \n",
    "    # remove from ineligible\n",
    "    ineligibleWds = [i for i in ineligibleWds if i >= currentTime]\n",
    "    \n",
    "    # remove expired withdrawals\n",
    "    pastWds = [i for i in pastWds if currentTime - i <= T]\n",
    "    \n",
    "    # churn remaining\n",
    "    churn = delta - sum(pastWds)\n",
    "    if churn > 0:\n",
    "        pastWds.extend(eligibleWds[:churn])\n",
    "        \n",
    "        # *** THIS IS THE POP OPERATION FROM THE FRONT OF THE QUEUE *** #\n",
    "        eligibleWds = eligibleWds[churn:]\n",
    "\n",
    "    print(currentTime, eligibleWds, ineligibleWds, pastWds)"
   ]
  }
 ],
 "metadata": {
  "kernelspec": {
   "display_name": "Python 3",
   "language": "python",
   "name": "python3"
  },
  "language_info": {
   "codemirror_mode": {
    "name": "ipython",
    "version": 3
   },
   "file_extension": ".py",
   "mimetype": "text/x-python",
   "name": "python",
   "nbconvert_exporter": "python",
   "pygments_lexer": "ipython3",
   "version": "3.8.16"
  }
 },
 "nbformat": 4,
 "nbformat_minor": 4
}
